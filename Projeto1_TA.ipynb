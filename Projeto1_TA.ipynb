{
  "nbformat": 4,
  "nbformat_minor": 0,
  "metadata": {
    "colab": {
      "name": "Projeto1-TA.ipynb",
      "provenance": [],
      "collapsed_sections": []
    },
    "kernelspec": {
      "name": "python3",
      "display_name": "Python 3"
    },
    "language_info": {
      "name": "python"
    }
  },
  "cells": [
    {
      "cell_type": "markdown",
      "source": [
        "# Projeto 1 - Turing Academy"
      ],
      "metadata": {
        "id": "1LQGsyqEQTq6"
      }
    },
    {
      "cell_type": "markdown",
      "source": [
        "Para análise, os dois datasets fornecidos foram juntados, porém na limpeza foram feitas todas as ações nos três datasets (contando o novo proveniente da concatenação) para que evitar algum problema na separação do novo dataset para a utilização dos modelos de predição."
      ],
      "metadata": {
        "id": "rqY9Y7AHQ4Oe"
      }
    },
    {
      "cell_type": "code",
      "execution_count": 1,
      "metadata": {
        "id": "z_2wFzXpywSM"
      },
      "outputs": [],
      "source": [
        "import pandas as pd\n",
        "import matplotlib.pyplot as plt\n",
        "import numpy as np\n",
        "import seaborn as sns"
      ]
    },
    {
      "cell_type": "code",
      "source": [
        "df_test = pd.read_csv('test.csv')\n",
        "df_train = pd.read_csv('train.csv')"
      ],
      "metadata": {
        "id": "WdhkayR4ubI1"
      },
      "execution_count": 2,
      "outputs": []
    },
    {
      "cell_type": "code",
      "source": [
        "df = pd.concat([df_test, df_train]) #juntar os datasets\n",
        "df.head()"
      ],
      "metadata": {
        "colab": {
          "base_uri": "https://localhost:8080/",
          "height": 287
        },
        "id": "bJelgdgDuANb",
        "outputId": "2ea051e0-25a1-4ce8-8d80-a9b6e684b935"
      },
      "execution_count": 3,
      "outputs": [
        {
          "output_type": "execute_result",
          "data": {
            "text/plain": [
              "   employee_id         department     region   education gender  \\\n",
              "0         8724         Technology  region_26  Bachelor's      m   \n",
              "1        74430                 HR   region_4  Bachelor's      f   \n",
              "2        72255  Sales & Marketing  region_13  Bachelor's      m   \n",
              "3        38562        Procurement   region_2  Bachelor's      f   \n",
              "4        64486            Finance  region_29  Bachelor's      m   \n",
              "\n",
              "  recruitment_channel  no_of_trainings  age  previous_year_rating  \\\n",
              "0            sourcing              1.0   24                   NaN   \n",
              "1               other              1.0   31                   3.0   \n",
              "2               other              1.0   31                   1.0   \n",
              "3               other              NaN   31                   2.0   \n",
              "4            sourcing              1.0   30                   4.0   \n",
              "\n",
              "   length_of_service  awards_won?  avg_training_score  is_promoted  \n",
              "0                  1            0                77.0          NaN  \n",
              "1                  5            0                51.0          NaN  \n",
              "2                  4            0                47.0          NaN  \n",
              "3                  9            0                65.0          NaN  \n",
              "4                  7            0                61.0          NaN  "
            ],
            "text/html": [
              "\n",
              "  <div id=\"df-37a83796-662a-4c95-8a60-3c276f897478\">\n",
              "    <div class=\"colab-df-container\">\n",
              "      <div>\n",
              "<style scoped>\n",
              "    .dataframe tbody tr th:only-of-type {\n",
              "        vertical-align: middle;\n",
              "    }\n",
              "\n",
              "    .dataframe tbody tr th {\n",
              "        vertical-align: top;\n",
              "    }\n",
              "\n",
              "    .dataframe thead th {\n",
              "        text-align: right;\n",
              "    }\n",
              "</style>\n",
              "<table border=\"1\" class=\"dataframe\">\n",
              "  <thead>\n",
              "    <tr style=\"text-align: right;\">\n",
              "      <th></th>\n",
              "      <th>employee_id</th>\n",
              "      <th>department</th>\n",
              "      <th>region</th>\n",
              "      <th>education</th>\n",
              "      <th>gender</th>\n",
              "      <th>recruitment_channel</th>\n",
              "      <th>no_of_trainings</th>\n",
              "      <th>age</th>\n",
              "      <th>previous_year_rating</th>\n",
              "      <th>length_of_service</th>\n",
              "      <th>awards_won?</th>\n",
              "      <th>avg_training_score</th>\n",
              "      <th>is_promoted</th>\n",
              "    </tr>\n",
              "  </thead>\n",
              "  <tbody>\n",
              "    <tr>\n",
              "      <th>0</th>\n",
              "      <td>8724</td>\n",
              "      <td>Technology</td>\n",
              "      <td>region_26</td>\n",
              "      <td>Bachelor's</td>\n",
              "      <td>m</td>\n",
              "      <td>sourcing</td>\n",
              "      <td>1.0</td>\n",
              "      <td>24</td>\n",
              "      <td>NaN</td>\n",
              "      <td>1</td>\n",
              "      <td>0</td>\n",
              "      <td>77.0</td>\n",
              "      <td>NaN</td>\n",
              "    </tr>\n",
              "    <tr>\n",
              "      <th>1</th>\n",
              "      <td>74430</td>\n",
              "      <td>HR</td>\n",
              "      <td>region_4</td>\n",
              "      <td>Bachelor's</td>\n",
              "      <td>f</td>\n",
              "      <td>other</td>\n",
              "      <td>1.0</td>\n",
              "      <td>31</td>\n",
              "      <td>3.0</td>\n",
              "      <td>5</td>\n",
              "      <td>0</td>\n",
              "      <td>51.0</td>\n",
              "      <td>NaN</td>\n",
              "    </tr>\n",
              "    <tr>\n",
              "      <th>2</th>\n",
              "      <td>72255</td>\n",
              "      <td>Sales &amp; Marketing</td>\n",
              "      <td>region_13</td>\n",
              "      <td>Bachelor's</td>\n",
              "      <td>m</td>\n",
              "      <td>other</td>\n",
              "      <td>1.0</td>\n",
              "      <td>31</td>\n",
              "      <td>1.0</td>\n",
              "      <td>4</td>\n",
              "      <td>0</td>\n",
              "      <td>47.0</td>\n",
              "      <td>NaN</td>\n",
              "    </tr>\n",
              "    <tr>\n",
              "      <th>3</th>\n",
              "      <td>38562</td>\n",
              "      <td>Procurement</td>\n",
              "      <td>region_2</td>\n",
              "      <td>Bachelor's</td>\n",
              "      <td>f</td>\n",
              "      <td>other</td>\n",
              "      <td>NaN</td>\n",
              "      <td>31</td>\n",
              "      <td>2.0</td>\n",
              "      <td>9</td>\n",
              "      <td>0</td>\n",
              "      <td>65.0</td>\n",
              "      <td>NaN</td>\n",
              "    </tr>\n",
              "    <tr>\n",
              "      <th>4</th>\n",
              "      <td>64486</td>\n",
              "      <td>Finance</td>\n",
              "      <td>region_29</td>\n",
              "      <td>Bachelor's</td>\n",
              "      <td>m</td>\n",
              "      <td>sourcing</td>\n",
              "      <td>1.0</td>\n",
              "      <td>30</td>\n",
              "      <td>4.0</td>\n",
              "      <td>7</td>\n",
              "      <td>0</td>\n",
              "      <td>61.0</td>\n",
              "      <td>NaN</td>\n",
              "    </tr>\n",
              "  </tbody>\n",
              "</table>\n",
              "</div>\n",
              "      <button class=\"colab-df-convert\" onclick=\"convertToInteractive('df-37a83796-662a-4c95-8a60-3c276f897478')\"\n",
              "              title=\"Convert this dataframe to an interactive table.\"\n",
              "              style=\"display:none;\">\n",
              "        \n",
              "  <svg xmlns=\"http://www.w3.org/2000/svg\" height=\"24px\"viewBox=\"0 0 24 24\"\n",
              "       width=\"24px\">\n",
              "    <path d=\"M0 0h24v24H0V0z\" fill=\"none\"/>\n",
              "    <path d=\"M18.56 5.44l.94 2.06.94-2.06 2.06-.94-2.06-.94-.94-2.06-.94 2.06-2.06.94zm-11 1L8.5 8.5l.94-2.06 2.06-.94-2.06-.94L8.5 2.5l-.94 2.06-2.06.94zm10 10l.94 2.06.94-2.06 2.06-.94-2.06-.94-.94-2.06-.94 2.06-2.06.94z\"/><path d=\"M17.41 7.96l-1.37-1.37c-.4-.4-.92-.59-1.43-.59-.52 0-1.04.2-1.43.59L10.3 9.45l-7.72 7.72c-.78.78-.78 2.05 0 2.83L4 21.41c.39.39.9.59 1.41.59.51 0 1.02-.2 1.41-.59l7.78-7.78 2.81-2.81c.8-.78.8-2.07 0-2.86zM5.41 20L4 18.59l7.72-7.72 1.47 1.35L5.41 20z\"/>\n",
              "  </svg>\n",
              "      </button>\n",
              "      \n",
              "  <style>\n",
              "    .colab-df-container {\n",
              "      display:flex;\n",
              "      flex-wrap:wrap;\n",
              "      gap: 12px;\n",
              "    }\n",
              "\n",
              "    .colab-df-convert {\n",
              "      background-color: #E8F0FE;\n",
              "      border: none;\n",
              "      border-radius: 50%;\n",
              "      cursor: pointer;\n",
              "      display: none;\n",
              "      fill: #1967D2;\n",
              "      height: 32px;\n",
              "      padding: 0 0 0 0;\n",
              "      width: 32px;\n",
              "    }\n",
              "\n",
              "    .colab-df-convert:hover {\n",
              "      background-color: #E2EBFA;\n",
              "      box-shadow: 0px 1px 2px rgba(60, 64, 67, 0.3), 0px 1px 3px 1px rgba(60, 64, 67, 0.15);\n",
              "      fill: #174EA6;\n",
              "    }\n",
              "\n",
              "    [theme=dark] .colab-df-convert {\n",
              "      background-color: #3B4455;\n",
              "      fill: #D2E3FC;\n",
              "    }\n",
              "\n",
              "    [theme=dark] .colab-df-convert:hover {\n",
              "      background-color: #434B5C;\n",
              "      box-shadow: 0px 1px 3px 1px rgba(0, 0, 0, 0.15);\n",
              "      filter: drop-shadow(0px 1px 2px rgba(0, 0, 0, 0.3));\n",
              "      fill: #FFFFFF;\n",
              "    }\n",
              "  </style>\n",
              "\n",
              "      <script>\n",
              "        const buttonEl =\n",
              "          document.querySelector('#df-37a83796-662a-4c95-8a60-3c276f897478 button.colab-df-convert');\n",
              "        buttonEl.style.display =\n",
              "          google.colab.kernel.accessAllowed ? 'block' : 'none';\n",
              "\n",
              "        async function convertToInteractive(key) {\n",
              "          const element = document.querySelector('#df-37a83796-662a-4c95-8a60-3c276f897478');\n",
              "          const dataTable =\n",
              "            await google.colab.kernel.invokeFunction('convertToInteractive',\n",
              "                                                     [key], {});\n",
              "          if (!dataTable) return;\n",
              "\n",
              "          const docLinkHtml = 'Like what you see? Visit the ' +\n",
              "            '<a target=\"_blank\" href=https://colab.research.google.com/notebooks/data_table.ipynb>data table notebook</a>'\n",
              "            + ' to learn more about interactive tables.';\n",
              "          element.innerHTML = '';\n",
              "          dataTable['output_type'] = 'display_data';\n",
              "          await google.colab.output.renderOutput(dataTable, element);\n",
              "          const docLink = document.createElement('div');\n",
              "          docLink.innerHTML = docLinkHtml;\n",
              "          element.appendChild(docLink);\n",
              "        }\n",
              "      </script>\n",
              "    </div>\n",
              "  </div>\n",
              "  "
            ]
          },
          "metadata": {},
          "execution_count": 3
        }
      ]
    },
    {
      "cell_type": "code",
      "source": [
        "df.info()"
      ],
      "metadata": {
        "colab": {
          "base_uri": "https://localhost:8080/"
        },
        "id": "wWZIz-ik0U9e",
        "outputId": "7350662f-e1d6-434c-86f2-813435a7ae5d"
      },
      "execution_count": null,
      "outputs": [
        {
          "output_type": "stream",
          "name": "stdout",
          "text": [
            "<class 'pandas.core.frame.DataFrame'>\n",
            "Int64Index: 78298 entries, 0 to 54807\n",
            "Data columns (total 13 columns):\n",
            " #   Column                Non-Null Count  Dtype  \n",
            "---  ------                --------------  -----  \n",
            " 0   employee_id           78298 non-null  int64  \n",
            " 1   department            78298 non-null  object \n",
            " 2   region                78298 non-null  object \n",
            " 3   education             74855 non-null  object \n",
            " 4   gender                78298 non-null  object \n",
            " 5   recruitment_channel   78298 non-null  object \n",
            " 6   no_of_trainings       71379 non-null  float64\n",
            " 7   age                   78298 non-null  int64  \n",
            " 8   previous_year_rating  72362 non-null  float64\n",
            " 9   length_of_service     78298 non-null  int64  \n",
            " 10  awards_won?           78298 non-null  int64  \n",
            " 11  avg_training_score    70840 non-null  float64\n",
            " 12  is_promoted           54808 non-null  float64\n",
            "dtypes: float64(4), int64(4), object(5)\n",
            "memory usage: 8.4+ MB\n"
          ]
        }
      ]
    },
    {
      "cell_type": "code",
      "source": [
        "df.describe()"
      ],
      "metadata": {
        "colab": {
          "base_uri": "https://localhost:8080/",
          "height": 300
        },
        "id": "mmb0N6cfTbF5",
        "outputId": "65e24a2d-30d7-422e-86c9-f8979f66520b"
      },
      "execution_count": null,
      "outputs": [
        {
          "output_type": "execute_result",
          "data": {
            "text/plain": [
              "        employee_id  no_of_trainings            age  previous_year_rating  \\\n",
              "count  78298.000000     71379.000000   78298.000000          72362.000000   \n",
              "mean   39149.500000         1.256672     201.898120              3.332219   \n",
              "std    22602.830026         0.610376    4538.125963              1.260982   \n",
              "min        1.000000         1.000000     -32.000000              1.000000   \n",
              "25%    19575.250000         1.000000      29.000000              3.000000   \n",
              "50%    39149.500000         1.000000      33.000000              3.000000   \n",
              "75%    58723.750000         1.000000      39.000000              4.000000   \n",
              "max    78298.000000        10.000000  123456.000000              5.000000   \n",
              "\n",
              "       length_of_service   awards_won?  avg_training_score   is_promoted  \n",
              "count       78298.000000  78298.000000        70840.000000  54808.000000  \n",
              "mean            5.848974      0.023053           63.430957      0.085170  \n",
              "std             4.248070      0.150073           13.465914      0.279137  \n",
              "min             1.000000      0.000000           39.000000      0.000000  \n",
              "25%             3.000000      0.000000           51.000000      0.000000  \n",
              "50%             5.000000      0.000000           60.000000      0.000000  \n",
              "75%             7.000000      0.000000           76.000000      0.000000  \n",
              "max            37.000000      1.000000           99.000000      1.000000  "
            ],
            "text/html": [
              "\n",
              "  <div id=\"df-381a3c10-eeb3-4349-871b-bff7e83d2360\">\n",
              "    <div class=\"colab-df-container\">\n",
              "      <div>\n",
              "<style scoped>\n",
              "    .dataframe tbody tr th:only-of-type {\n",
              "        vertical-align: middle;\n",
              "    }\n",
              "\n",
              "    .dataframe tbody tr th {\n",
              "        vertical-align: top;\n",
              "    }\n",
              "\n",
              "    .dataframe thead th {\n",
              "        text-align: right;\n",
              "    }\n",
              "</style>\n",
              "<table border=\"1\" class=\"dataframe\">\n",
              "  <thead>\n",
              "    <tr style=\"text-align: right;\">\n",
              "      <th></th>\n",
              "      <th>employee_id</th>\n",
              "      <th>no_of_trainings</th>\n",
              "      <th>age</th>\n",
              "      <th>previous_year_rating</th>\n",
              "      <th>length_of_service</th>\n",
              "      <th>awards_won?</th>\n",
              "      <th>avg_training_score</th>\n",
              "      <th>is_promoted</th>\n",
              "    </tr>\n",
              "  </thead>\n",
              "  <tbody>\n",
              "    <tr>\n",
              "      <th>count</th>\n",
              "      <td>78298.000000</td>\n",
              "      <td>71379.000000</td>\n",
              "      <td>78298.000000</td>\n",
              "      <td>72362.000000</td>\n",
              "      <td>78298.000000</td>\n",
              "      <td>78298.000000</td>\n",
              "      <td>70840.000000</td>\n",
              "      <td>54808.000000</td>\n",
              "    </tr>\n",
              "    <tr>\n",
              "      <th>mean</th>\n",
              "      <td>39149.500000</td>\n",
              "      <td>1.256672</td>\n",
              "      <td>201.898120</td>\n",
              "      <td>3.332219</td>\n",
              "      <td>5.848974</td>\n",
              "      <td>0.023053</td>\n",
              "      <td>63.430957</td>\n",
              "      <td>0.085170</td>\n",
              "    </tr>\n",
              "    <tr>\n",
              "      <th>std</th>\n",
              "      <td>22602.830026</td>\n",
              "      <td>0.610376</td>\n",
              "      <td>4538.125963</td>\n",
              "      <td>1.260982</td>\n",
              "      <td>4.248070</td>\n",
              "      <td>0.150073</td>\n",
              "      <td>13.465914</td>\n",
              "      <td>0.279137</td>\n",
              "    </tr>\n",
              "    <tr>\n",
              "      <th>min</th>\n",
              "      <td>1.000000</td>\n",
              "      <td>1.000000</td>\n",
              "      <td>-32.000000</td>\n",
              "      <td>1.000000</td>\n",
              "      <td>1.000000</td>\n",
              "      <td>0.000000</td>\n",
              "      <td>39.000000</td>\n",
              "      <td>0.000000</td>\n",
              "    </tr>\n",
              "    <tr>\n",
              "      <th>25%</th>\n",
              "      <td>19575.250000</td>\n",
              "      <td>1.000000</td>\n",
              "      <td>29.000000</td>\n",
              "      <td>3.000000</td>\n",
              "      <td>3.000000</td>\n",
              "      <td>0.000000</td>\n",
              "      <td>51.000000</td>\n",
              "      <td>0.000000</td>\n",
              "    </tr>\n",
              "    <tr>\n",
              "      <th>50%</th>\n",
              "      <td>39149.500000</td>\n",
              "      <td>1.000000</td>\n",
              "      <td>33.000000</td>\n",
              "      <td>3.000000</td>\n",
              "      <td>5.000000</td>\n",
              "      <td>0.000000</td>\n",
              "      <td>60.000000</td>\n",
              "      <td>0.000000</td>\n",
              "    </tr>\n",
              "    <tr>\n",
              "      <th>75%</th>\n",
              "      <td>58723.750000</td>\n",
              "      <td>1.000000</td>\n",
              "      <td>39.000000</td>\n",
              "      <td>4.000000</td>\n",
              "      <td>7.000000</td>\n",
              "      <td>0.000000</td>\n",
              "      <td>76.000000</td>\n",
              "      <td>0.000000</td>\n",
              "    </tr>\n",
              "    <tr>\n",
              "      <th>max</th>\n",
              "      <td>78298.000000</td>\n",
              "      <td>10.000000</td>\n",
              "      <td>123456.000000</td>\n",
              "      <td>5.000000</td>\n",
              "      <td>37.000000</td>\n",
              "      <td>1.000000</td>\n",
              "      <td>99.000000</td>\n",
              "      <td>1.000000</td>\n",
              "    </tr>\n",
              "  </tbody>\n",
              "</table>\n",
              "</div>\n",
              "      <button class=\"colab-df-convert\" onclick=\"convertToInteractive('df-381a3c10-eeb3-4349-871b-bff7e83d2360')\"\n",
              "              title=\"Convert this dataframe to an interactive table.\"\n",
              "              style=\"display:none;\">\n",
              "        \n",
              "  <svg xmlns=\"http://www.w3.org/2000/svg\" height=\"24px\"viewBox=\"0 0 24 24\"\n",
              "       width=\"24px\">\n",
              "    <path d=\"M0 0h24v24H0V0z\" fill=\"none\"/>\n",
              "    <path d=\"M18.56 5.44l.94 2.06.94-2.06 2.06-.94-2.06-.94-.94-2.06-.94 2.06-2.06.94zm-11 1L8.5 8.5l.94-2.06 2.06-.94-2.06-.94L8.5 2.5l-.94 2.06-2.06.94zm10 10l.94 2.06.94-2.06 2.06-.94-2.06-.94-.94-2.06-.94 2.06-2.06.94z\"/><path d=\"M17.41 7.96l-1.37-1.37c-.4-.4-.92-.59-1.43-.59-.52 0-1.04.2-1.43.59L10.3 9.45l-7.72 7.72c-.78.78-.78 2.05 0 2.83L4 21.41c.39.39.9.59 1.41.59.51 0 1.02-.2 1.41-.59l7.78-7.78 2.81-2.81c.8-.78.8-2.07 0-2.86zM5.41 20L4 18.59l7.72-7.72 1.47 1.35L5.41 20z\"/>\n",
              "  </svg>\n",
              "      </button>\n",
              "      \n",
              "  <style>\n",
              "    .colab-df-container {\n",
              "      display:flex;\n",
              "      flex-wrap:wrap;\n",
              "      gap: 12px;\n",
              "    }\n",
              "\n",
              "    .colab-df-convert {\n",
              "      background-color: #E8F0FE;\n",
              "      border: none;\n",
              "      border-radius: 50%;\n",
              "      cursor: pointer;\n",
              "      display: none;\n",
              "      fill: #1967D2;\n",
              "      height: 32px;\n",
              "      padding: 0 0 0 0;\n",
              "      width: 32px;\n",
              "    }\n",
              "\n",
              "    .colab-df-convert:hover {\n",
              "      background-color: #E2EBFA;\n",
              "      box-shadow: 0px 1px 2px rgba(60, 64, 67, 0.3), 0px 1px 3px 1px rgba(60, 64, 67, 0.15);\n",
              "      fill: #174EA6;\n",
              "    }\n",
              "\n",
              "    [theme=dark] .colab-df-convert {\n",
              "      background-color: #3B4455;\n",
              "      fill: #D2E3FC;\n",
              "    }\n",
              "\n",
              "    [theme=dark] .colab-df-convert:hover {\n",
              "      background-color: #434B5C;\n",
              "      box-shadow: 0px 1px 3px 1px rgba(0, 0, 0, 0.15);\n",
              "      filter: drop-shadow(0px 1px 2px rgba(0, 0, 0, 0.3));\n",
              "      fill: #FFFFFF;\n",
              "    }\n",
              "  </style>\n",
              "\n",
              "      <script>\n",
              "        const buttonEl =\n",
              "          document.querySelector('#df-381a3c10-eeb3-4349-871b-bff7e83d2360 button.colab-df-convert');\n",
              "        buttonEl.style.display =\n",
              "          google.colab.kernel.accessAllowed ? 'block' : 'none';\n",
              "\n",
              "        async function convertToInteractive(key) {\n",
              "          const element = document.querySelector('#df-381a3c10-eeb3-4349-871b-bff7e83d2360');\n",
              "          const dataTable =\n",
              "            await google.colab.kernel.invokeFunction('convertToInteractive',\n",
              "                                                     [key], {});\n",
              "          if (!dataTable) return;\n",
              "\n",
              "          const docLinkHtml = 'Like what you see? Visit the ' +\n",
              "            '<a target=\"_blank\" href=https://colab.research.google.com/notebooks/data_table.ipynb>data table notebook</a>'\n",
              "            + ' to learn more about interactive tables.';\n",
              "          element.innerHTML = '';\n",
              "          dataTable['output_type'] = 'display_data';\n",
              "          await google.colab.output.renderOutput(dataTable, element);\n",
              "          const docLink = document.createElement('div');\n",
              "          docLink.innerHTML = docLinkHtml;\n",
              "          element.appendChild(docLink);\n",
              "        }\n",
              "      </script>\n",
              "    </div>\n",
              "  </div>\n",
              "  "
            ]
          },
          "metadata": {},
          "execution_count": 7
        }
      ]
    },
    {
      "cell_type": "markdown",
      "source": [
        "## Dados Categóricos"
      ],
      "metadata": {
        "id": "Y-97pHANyuqa"
      }
    },
    {
      "cell_type": "code",
      "source": [
        "df.describe(include=['object'])"
      ],
      "metadata": {
        "colab": {
          "base_uri": "https://localhost:8080/",
          "height": 175
        },
        "id": "WZFskP3OlMYk",
        "outputId": "ef788e8f-52d1-4db3-d5be-b56f7a8d1b5b"
      },
      "execution_count": null,
      "outputs": [
        {
          "output_type": "execute_result",
          "data": {
            "text/plain": [
              "               department    region   education gender recruitment_channel\n",
              "count               78189     78189       74746  78189               78189\n",
              "unique                 10        35           3      3                   3\n",
              "top     Sales & Marketing  region_2  Bachelor's   MALE               other\n",
              "freq                24155     17568       52247  54791               43464"
            ],
            "text/html": [
              "\n",
              "  <div id=\"df-278ae3ed-ac4d-4bd0-9803-0ce47887a61d\">\n",
              "    <div class=\"colab-df-container\">\n",
              "      <div>\n",
              "<style scoped>\n",
              "    .dataframe tbody tr th:only-of-type {\n",
              "        vertical-align: middle;\n",
              "    }\n",
              "\n",
              "    .dataframe tbody tr th {\n",
              "        vertical-align: top;\n",
              "    }\n",
              "\n",
              "    .dataframe thead th {\n",
              "        text-align: right;\n",
              "    }\n",
              "</style>\n",
              "<table border=\"1\" class=\"dataframe\">\n",
              "  <thead>\n",
              "    <tr style=\"text-align: right;\">\n",
              "      <th></th>\n",
              "      <th>department</th>\n",
              "      <th>region</th>\n",
              "      <th>education</th>\n",
              "      <th>gender</th>\n",
              "      <th>recruitment_channel</th>\n",
              "    </tr>\n",
              "  </thead>\n",
              "  <tbody>\n",
              "    <tr>\n",
              "      <th>count</th>\n",
              "      <td>78189</td>\n",
              "      <td>78189</td>\n",
              "      <td>74746</td>\n",
              "      <td>78189</td>\n",
              "      <td>78189</td>\n",
              "    </tr>\n",
              "    <tr>\n",
              "      <th>unique</th>\n",
              "      <td>10</td>\n",
              "      <td>35</td>\n",
              "      <td>3</td>\n",
              "      <td>3</td>\n",
              "      <td>3</td>\n",
              "    </tr>\n",
              "    <tr>\n",
              "      <th>top</th>\n",
              "      <td>Sales &amp; Marketing</td>\n",
              "      <td>region_2</td>\n",
              "      <td>Bachelor's</td>\n",
              "      <td>MALE</td>\n",
              "      <td>other</td>\n",
              "    </tr>\n",
              "    <tr>\n",
              "      <th>freq</th>\n",
              "      <td>24155</td>\n",
              "      <td>17568</td>\n",
              "      <td>52247</td>\n",
              "      <td>54791</td>\n",
              "      <td>43464</td>\n",
              "    </tr>\n",
              "  </tbody>\n",
              "</table>\n",
              "</div>\n",
              "      <button class=\"colab-df-convert\" onclick=\"convertToInteractive('df-278ae3ed-ac4d-4bd0-9803-0ce47887a61d')\"\n",
              "              title=\"Convert this dataframe to an interactive table.\"\n",
              "              style=\"display:none;\">\n",
              "        \n",
              "  <svg xmlns=\"http://www.w3.org/2000/svg\" height=\"24px\"viewBox=\"0 0 24 24\"\n",
              "       width=\"24px\">\n",
              "    <path d=\"M0 0h24v24H0V0z\" fill=\"none\"/>\n",
              "    <path d=\"M18.56 5.44l.94 2.06.94-2.06 2.06-.94-2.06-.94-.94-2.06-.94 2.06-2.06.94zm-11 1L8.5 8.5l.94-2.06 2.06-.94-2.06-.94L8.5 2.5l-.94 2.06-2.06.94zm10 10l.94 2.06.94-2.06 2.06-.94-2.06-.94-.94-2.06-.94 2.06-2.06.94z\"/><path d=\"M17.41 7.96l-1.37-1.37c-.4-.4-.92-.59-1.43-.59-.52 0-1.04.2-1.43.59L10.3 9.45l-7.72 7.72c-.78.78-.78 2.05 0 2.83L4 21.41c.39.39.9.59 1.41.59.51 0 1.02-.2 1.41-.59l7.78-7.78 2.81-2.81c.8-.78.8-2.07 0-2.86zM5.41 20L4 18.59l7.72-7.72 1.47 1.35L5.41 20z\"/>\n",
              "  </svg>\n",
              "      </button>\n",
              "      \n",
              "  <style>\n",
              "    .colab-df-container {\n",
              "      display:flex;\n",
              "      flex-wrap:wrap;\n",
              "      gap: 12px;\n",
              "    }\n",
              "\n",
              "    .colab-df-convert {\n",
              "      background-color: #E8F0FE;\n",
              "      border: none;\n",
              "      border-radius: 50%;\n",
              "      cursor: pointer;\n",
              "      display: none;\n",
              "      fill: #1967D2;\n",
              "      height: 32px;\n",
              "      padding: 0 0 0 0;\n",
              "      width: 32px;\n",
              "    }\n",
              "\n",
              "    .colab-df-convert:hover {\n",
              "      background-color: #E2EBFA;\n",
              "      box-shadow: 0px 1px 2px rgba(60, 64, 67, 0.3), 0px 1px 3px 1px rgba(60, 64, 67, 0.15);\n",
              "      fill: #174EA6;\n",
              "    }\n",
              "\n",
              "    [theme=dark] .colab-df-convert {\n",
              "      background-color: #3B4455;\n",
              "      fill: #D2E3FC;\n",
              "    }\n",
              "\n",
              "    [theme=dark] .colab-df-convert:hover {\n",
              "      background-color: #434B5C;\n",
              "      box-shadow: 0px 1px 3px 1px rgba(0, 0, 0, 0.15);\n",
              "      filter: drop-shadow(0px 1px 2px rgba(0, 0, 0, 0.3));\n",
              "      fill: #FFFFFF;\n",
              "    }\n",
              "  </style>\n",
              "\n",
              "      <script>\n",
              "        const buttonEl =\n",
              "          document.querySelector('#df-278ae3ed-ac4d-4bd0-9803-0ce47887a61d button.colab-df-convert');\n",
              "        buttonEl.style.display =\n",
              "          google.colab.kernel.accessAllowed ? 'block' : 'none';\n",
              "\n",
              "        async function convertToInteractive(key) {\n",
              "          const element = document.querySelector('#df-278ae3ed-ac4d-4bd0-9803-0ce47887a61d');\n",
              "          const dataTable =\n",
              "            await google.colab.kernel.invokeFunction('convertToInteractive',\n",
              "                                                     [key], {});\n",
              "          if (!dataTable) return;\n",
              "\n",
              "          const docLinkHtml = 'Like what you see? Visit the ' +\n",
              "            '<a target=\"_blank\" href=https://colab.research.google.com/notebooks/data_table.ipynb>data table notebook</a>'\n",
              "            + ' to learn more about interactive tables.';\n",
              "          element.innerHTML = '';\n",
              "          dataTable['output_type'] = 'display_data';\n",
              "          await google.colab.output.renderOutput(dataTable, element);\n",
              "          const docLink = document.createElement('div');\n",
              "          docLink.innerHTML = docLinkHtml;\n",
              "          element.appendChild(docLink);\n",
              "        }\n",
              "      </script>\n",
              "    </div>\n",
              "  </div>\n",
              "  "
            ]
          },
          "metadata": {},
          "execution_count": 39
        }
      ]
    },
    {
      "cell_type": "markdown",
      "source": [
        "Verificando se as features assumem valores incoerentes."
      ],
      "metadata": {
        "id": "8CA7fUG5RoMM"
      }
    },
    {
      "cell_type": "code",
      "source": [
        "print(pd.Series(df.gender.unique()), end='\\n\\n')"
      ],
      "metadata": {
        "colab": {
          "base_uri": "https://localhost:8080/"
        },
        "id": "z0T1DutVm3fK",
        "outputId": "dccb4bdb-e93c-4624-bc8f-acae5b7f5119"
      },
      "execution_count": null,
      "outputs": [
        {
          "output_type": "stream",
          "name": "stdout",
          "text": [
            "0                                MALE\n",
            "1                              FEMALE\n",
            "2    eu sou homem hetero homossexual!\n",
            "dtype: object\n",
            "\n"
          ]
        }
      ]
    },
    {
      "cell_type": "code",
      "source": [
        "print(pd.Series(df.education.unique()), end='\\n\\n')"
      ],
      "metadata": {
        "colab": {
          "base_uri": "https://localhost:8080/"
        },
        "id": "iRHOYUu18in1",
        "outputId": "2bfddf3c-3a8b-4f7f-9ea9-2318689661e3"
      },
      "execution_count": null,
      "outputs": [
        {
          "output_type": "stream",
          "name": "stdout",
          "text": [
            "0          Bachelor's\n",
            "1    Master's & above\n",
            "2                 NaN\n",
            "3     Below Secondary\n",
            "dtype: object\n",
            "\n"
          ]
        }
      ]
    },
    {
      "cell_type": "code",
      "source": [
        "print(pd.Series(df.recruitment_channel.unique()), end='\\n\\n')"
      ],
      "metadata": {
        "colab": {
          "base_uri": "https://localhost:8080/"
        },
        "id": "tkRdJf1RoeyK",
        "outputId": "e2db4db5-43e7-43af-8170-4034ff4f4b88"
      },
      "execution_count": null,
      "outputs": [
        {
          "output_type": "stream",
          "name": "stdout",
          "text": [
            "0    sourcing\n",
            "1       other\n",
            "2    referred\n",
            "dtype: object\n",
            "\n"
          ]
        }
      ]
    },
    {
      "cell_type": "code",
      "source": [
        "print(pd.Series(df.department.unique()), end='\\n\\n')"
      ],
      "metadata": {
        "colab": {
          "base_uri": "https://localhost:8080/"
        },
        "id": "EzeXN_NX4GCz",
        "outputId": "46c20c81-1a6a-4814-d182-843d05e7c175"
      },
      "execution_count": null,
      "outputs": [
        {
          "output_type": "stream",
          "name": "stdout",
          "text": [
            "0            Technology\n",
            "1                    HR\n",
            "2     Sales & Marketing\n",
            "3           Procurement\n",
            "4               Finance\n",
            "5             Analytics\n",
            "6            Operations\n",
            "7                 Legal\n",
            "8                   R&D\n",
            "9    quem trouxe quenga\n",
            "dtype: object\n",
            "\n"
          ]
        }
      ]
    },
    {
      "cell_type": "code",
      "source": [
        "print(pd.Series(df.region.unique()), end='\\n\\n')"
      ],
      "metadata": {
        "colab": {
          "base_uri": "https://localhost:8080/"
        },
        "id": "0qsrAh7d4W9h",
        "outputId": "c533cb19-dfff-4e8c-93c6-94c97514f1c5"
      },
      "execution_count": null,
      "outputs": [
        {
          "output_type": "stream",
          "name": "stdout",
          "text": [
            "0                region_26\n",
            "1                 region_4\n",
            "2                region_13\n",
            "3                 region_2\n",
            "4                region_29\n",
            "5                 region_7\n",
            "6                region_22\n",
            "7                region_16\n",
            "8                region_17\n",
            "9                region_24\n",
            "10               region_11\n",
            "11               region_27\n",
            "12                region_9\n",
            "13               region_20\n",
            "14               region_34\n",
            "15               region_23\n",
            "16                region_8\n",
            "17               region_14\n",
            "18               region_31\n",
            "19               region_19\n",
            "20                region_5\n",
            "21               region_28\n",
            "22               region_15\n",
            "23                region_3\n",
            "24               region_25\n",
            "25               region_12\n",
            "26               region_21\n",
            "27               region_30\n",
            "28               region_10\n",
            "29               region_33\n",
            "30               region_32\n",
            "31                region_6\n",
            "32                region_1\n",
            "33               region_18\n",
            "34    casa da lu na suecia\n",
            "dtype: object\n",
            "\n"
          ]
        }
      ]
    },
    {
      "cell_type": "markdown",
      "source": [
        "### Dados faltantes e incorretos"
      ],
      "metadata": {
        "id": "e3sNUo-V7JIm"
      }
    },
    {
      "cell_type": "code",
      "source": [
        "df[\"gender\"].replace(\"m\",\"MALE\",inplace = True)\n",
        "df[\"gender\"].replace(\"f\",\"FEMALE\",inplace = True)\n",
        "df[\"gender\"].replace(\"fEMALE\",\"FEMALE\",inplace = True)\n",
        "\n",
        "df_test[\"gender\"].replace(\"m\",\"MALE\",inplace = True)\n",
        "df_test[\"gender\"].replace(\"f\",\"FEMALE\",inplace = True)\n",
        "df_test[\"gender\"].replace(\"fEMALE\",\"FEMALE\",inplace = True)\n",
        "\n",
        "df_train[\"gender\"].replace(\"m\",\"MALE\",inplace = True)\n",
        "df_train[\"gender\"].replace(\"f\",\"FEMALE\",inplace = True)\n",
        "df_train[\"gender\"].replace(\"fEMALE\",\"FEMALE\",inplace = True)"
      ],
      "metadata": {
        "id": "kSyZxxbrwpr7"
      },
      "execution_count": 4,
      "outputs": []
    },
    {
      "cell_type": "markdown",
      "source": [
        "Substituindo os valores \"m\" \"f\" para \"MALE\" e \"FEMALE\" respectivamente pois representam a mesma coisa. Além disso, foi corrigido a escrita de \"FEMALE\" para completamente maiúsculo."
      ],
      "metadata": {
        "id": "SDtHtdgKR3nt"
      }
    },
    {
      "cell_type": "markdown",
      "source": [
        "Agora vamos retirar as linhas do dataset que contém os os seguintes valores em algumas das features: 'eu sou homem hetero homossexual!', 'casa da lu na suecia', 'quem trouxe quenga', pois são incoerentes com o cenário da pesquisa."
      ],
      "metadata": {
        "id": "wXuuQL3CXown"
      }
    },
    {
      "cell_type": "code",
      "source": [
        "indexGender = df[ df['gender'] == 'eu sou homem hetero homossexual!'].index\n",
        "df.drop(indexGender , inplace=True)\n",
        "\n",
        "indexGender1 = df_test[ df_test['gender'] == 'eu sou homem hetero homossexual!'].index\n",
        "df_test.drop(indexGender1 , inplace=True)\n",
        "\n",
        "indexGender2 = df_train[ df_train['gender'] == 'eu sou homem hetero homossexual!'].index\n",
        "df_train.drop(indexGender2 , inplace=True)"
      ],
      "metadata": {
        "id": "Ay-8wZRGxSLB"
      },
      "execution_count": 5,
      "outputs": []
    },
    {
      "cell_type": "code",
      "source": [
        "indexRegion = df[ df['region'] == 'casa da lu na suecia'].index\n",
        "df.drop(indexRegion , inplace=True)\n",
        "\n",
        "indexRegion1 = df_test[ df_test['region'] == 'casa da lu na suecia'].index\n",
        "df_test.drop(indexRegion1 , inplace=True)\n",
        "\n",
        "indexRegion2 = df_train[ df_train['region'] == 'casa da lu na suecia'].index\n",
        "df_train.drop(indexRegion2 , inplace=True)"
      ],
      "metadata": {
        "id": "fYZ1GJkt9diJ"
      },
      "execution_count": 6,
      "outputs": []
    },
    {
      "cell_type": "code",
      "source": [
        "indexDep = df[ df['department'] == 'quem trouxe quenga'].index\n",
        "df.drop(indexDep , inplace=True)\n",
        "\n",
        "indexDep1 = df_test[ df_test['department'] == 'quem trouxe quenga'].index\n",
        "df_test.drop(indexDep1 , inplace=True)\n",
        "\n",
        "indexDep2 = df_train[ df_train['department'] == 'quem trouxe quenga'].index\n",
        "df_train.drop(indexDep2 , inplace=True)"
      ],
      "metadata": {
        "id": "tv8azt6C7eNO"
      },
      "execution_count": 7,
      "outputs": []
    },
    {
      "cell_type": "markdown",
      "source": [
        "Agora podemos fazer uma pequena análise dos dados categóricos."
      ],
      "metadata": {
        "id": "uhaJf_vvWWgn"
      }
    },
    {
      "cell_type": "code",
      "source": [
        "sns.set_theme(style=\"darkgrid\")\n",
        "sns.countplot(x=df['gender']);"
      ],
      "metadata": {
        "colab": {
          "base_uri": "https://localhost:8080/",
          "height": 285
        },
        "id": "D5L47TrbyOMR",
        "outputId": "2fe169da-2f83-421b-a6cb-6ee3b8e2e6cb"
      },
      "execution_count": null,
      "outputs": [
        {
          "output_type": "display_data",
          "data": {
            "text/plain": [
              "<Figure size 432x288 with 1 Axes>"
            ],
            "image/png": "[encoded data removed]"
          },
          "metadata": {}
        }
      ]
    },
    {
      "cell_type": "markdown",
      "source": [
        "Vemos que a quantidade de homens na empresa ultaprassa o dobro do número de mulheres."
      ],
      "metadata": {
        "id": "hqroGDw-SYeq"
      }
    },
    {
      "cell_type": "code",
      "source": [
        "sns.countplot(x=df['education']);"
      ],
      "metadata": {
        "colab": {
          "base_uri": "https://localhost:8080/",
          "height": 285
        },
        "id": "iWsBetS00_VD",
        "outputId": "e03d4307-d36a-4b11-aa32-47fd6dd03a37"
      },
      "execution_count": null,
      "outputs": [
        {
          "output_type": "display_data",
          "data": {
            "text/plain": [
              "<Figure size 432x288 with 1 Axes>"
            ],
            "image/png": "[encoded data removed]"
          },
          "metadata": {}
        }
      ]
    },
    {
      "cell_type": "markdown",
      "source": [
        "O gráfico acima nos mostra que a maioria dos funcionários apresentam um grau acadêmico de bacharelado, e que poucos tem um nível educacional abaixo do \"secundário\"."
      ],
      "metadata": {
        "id": "biLNQn8aSm4i"
      }
    },
    {
      "cell_type": "code",
      "source": [
        "sns.countplot(x=df['department']);\n",
        "plt.xticks(rotation = 45);"
      ],
      "metadata": {
        "colab": {
          "base_uri": "https://localhost:8080/",
          "height": 355
        },
        "id": "1QvEG-o-5sKG",
        "outputId": "776494d8-8192-42ba-fa39-09dde9a6d7cf"
      },
      "execution_count": null,
      "outputs": [
        {
          "output_type": "display_data",
          "data": {
            "text/plain": [
              "<Figure size 432x288 with 1 Axes>"
            ],
            "image/png": "[encoded data removed]"
          },
          "metadata": {}
        }
      ]
    },
    {
      "cell_type": "markdown",
      "source": [
        "Com o gráfico podemos observar a distribuição do número de pessoas em cada departamento da empresa. Vemos que o setor de vendas e marketing é o que possui a maior quantidade de funcionários, seguido pelo departamento de operações."
      ],
      "metadata": {
        "id": "IxuaWSX6TWPu"
      }
    },
    {
      "cell_type": "code",
      "source": [
        "sns.countplot(x=df['recruitment_channel']);"
      ],
      "metadata": {
        "colab": {
          "base_uri": "https://localhost:8080/",
          "height": 285
        },
        "id": "YxAu4JcB565-",
        "outputId": "e723ccaf-de70-43c5-e0cf-e933493be3ea"
      },
      "execution_count": null,
      "outputs": [
        {
          "output_type": "display_data",
          "data": {
            "text/plain": [
              "<Figure size 432x288 with 1 Axes>"
            ],
            "image/png": "[encoded data removed]"
          },
          "metadata": {}
        }
      ]
    },
    {
      "cell_type": "markdown",
      "source": [
        "Observa-se que a pesquisa não consegue retratar muito bem o estudo dos canais de recrutamento dos funcionários, pois há apenas dois canais possíveis nessa feature e vemos que ambos aparecem menos que \"others\", um valor que ainda deixa as coisas em icógnita. Esse fator pode ser determinante na hora dos modelos de predição, visto que \"others\" representa a maioria e deve ser substituído para a predição."
      ],
      "metadata": {
        "id": "rwLR11lOT4BH"
      }
    },
    {
      "cell_type": "code",
      "source": [
        "plt.figure(figsize=(14,5))\n",
        "sns.countplot(x=df['region']);\n",
        "plt.xticks(rotation = 45);"
      ],
      "metadata": {
        "colab": {
          "base_uri": "https://localhost:8080/",
          "height": 376
        },
        "id": "Dt6zdak0T0Iw",
        "outputId": "13709831-d31f-4a31-e721-8e966e4bc4b1"
      },
      "execution_count": null,
      "outputs": [
        {
          "output_type": "display_data",
          "data": {
            "text/plain": [
              "<Figure size 1008x360 with 1 Axes>"
            ],
            "image/png": "[encoded data removed]"
          },
          "metadata": {}
        }
      ]
    },
    {
      "cell_type": "markdown",
      "source": [
        "Vemos que uma grande maioria dos funcionários vivem na região 2 do local de onde a pesquisa foi realizada."
      ],
      "metadata": {
        "id": "brtBf_uTXWYk"
      }
    },
    {
      "cell_type": "markdown",
      "source": [
        "Terminada a análise dessas features, terminaremos a limpeza para a utilização do dataset nos modelos de predição."
      ],
      "metadata": {
        "id": "ovFBAL8XWpGC"
      }
    },
    {
      "cell_type": "markdown",
      "source": [
        "Substituiremos os valores faltantes na feature \"education\" pelas sua moda."
      ],
      "metadata": {
        "id": "PkGMIwkwYSo_"
      }
    },
    {
      "cell_type": "code",
      "source": [
        "df[\"education\"].fillna(\"Bachelor's\", inplace = True)\n",
        "\n",
        "df_test[\"education\"].fillna(\"Bachelor's\", inplace = True)\n",
        "\n",
        "df_train[\"education\"].fillna(\"Bachelor's\", inplace = True)"
      ],
      "metadata": {
        "id": "edAmfA9y8o0X"
      },
      "execution_count": 8,
      "outputs": []
    },
    {
      "cell_type": "code",
      "source": [
        "len(df[df['recruitment_channel'] == 'other'])"
      ],
      "metadata": {
        "id": "3BIT3ouZ6SUZ",
        "colab": {
          "base_uri": "https://localhost:8080/"
        },
        "outputId": "b05977ee-10de-414f-b6ab-4501500aed29"
      },
      "execution_count": null,
      "outputs": [
        {
          "output_type": "execute_result",
          "data": {
            "text/plain": [
              "43292"
            ]
          },
          "metadata": {},
          "execution_count": 8
        }
      ]
    },
    {
      "cell_type": "code",
      "source": [
        "df['recruitment_channel'].replace(\"other\",\"sourcing\", inplace=True)\n",
        "\n",
        "df_test['recruitment_channel'].replace(\"other\",\"sourcing\", inplace=True)\n",
        "\n",
        "df_train['recruitment_channel'].replace(\"other\",\"sourcing\", inplace=True)"
      ],
      "metadata": {
        "id": "0jMbAkJFmTBK"
      },
      "execution_count": 9,
      "outputs": []
    },
    {
      "cell_type": "markdown",
      "source": [
        "Similarmente para a feature 'recruitment_channel' na qual lidamos com o valor \"others\" que não traz muita informação, e então substituimos pelo valor adequado que tinha mais contagens."
      ],
      "metadata": {
        "id": "r3SHAgegYlOE"
      }
    },
    {
      "cell_type": "markdown",
      "source": [
        "## Dados numéricos"
      ],
      "metadata": {
        "id": "JaUrHHv3tprn"
      }
    },
    {
      "cell_type": "code",
      "source": [
        "df.set_index(\"employee_id\", inplace=True)"
      ],
      "metadata": {
        "id": "L7LxAR_ItsvH"
      },
      "execution_count": 10,
      "outputs": []
    },
    {
      "cell_type": "code",
      "source": [
        "df.describe()"
      ],
      "metadata": {
        "colab": {
          "base_uri": "https://localhost:8080/",
          "height": 300
        },
        "id": "Gc-_Z1A5aQGP",
        "outputId": "74fb4ff5-0466-40c7-e35f-ac3f6a9adf21"
      },
      "execution_count": null,
      "outputs": [
        {
          "output_type": "execute_result",
          "data": {
            "text/plain": [
              "       no_of_trainings            age  previous_year_rating  \\\n",
              "count     71015.000000   77920.000000          71998.000000   \n",
              "mean          1.257157     202.703144              3.332829   \n",
              "std           0.611124    4549.105516              1.261526   \n",
              "min           1.000000     -32.000000              1.000000   \n",
              "25%           1.000000      29.000000              3.000000   \n",
              "50%           1.000000      33.000000              3.000000   \n",
              "75%           1.000000      39.000000              4.000000   \n",
              "max          10.000000  123456.000000              5.000000   \n",
              "\n",
              "       length_of_service   awards_won?  avg_training_score   is_promoted  \n",
              "count       77920.000000  77920.000000        70465.000000  54546.000000  \n",
              "mean            5.846111      0.022677           63.420492      0.085249  \n",
              "std             4.246099      0.148873           13.462672      0.279255  \n",
              "min             1.000000      0.000000           39.000000      0.000000  \n",
              "25%             3.000000      0.000000           51.000000      0.000000  \n",
              "50%             5.000000      0.000000           60.000000      0.000000  \n",
              "75%             7.000000      0.000000           76.000000      0.000000  \n",
              "max            37.000000      1.000000           99.000000      1.000000  "
            ],
            "text/html": [
              "\n",
              "  <div id=\"df-d2250752-257f-424c-8667-14b20f32b039\">\n",
              "    <div class=\"colab-df-container\">\n",
              "      <div>\n",
              "<style scoped>\n",
              "    .dataframe tbody tr th:only-of-type {\n",
              "        vertical-align: middle;\n",
              "    }\n",
              "\n",
              "    .dataframe tbody tr th {\n",
              "        vertical-align: top;\n",
              "    }\n",
              "\n",
              "    .dataframe thead th {\n",
              "        text-align: right;\n",
              "    }\n",
              "</style>\n",
              "<table border=\"1\" class=\"dataframe\">\n",
              "  <thead>\n",
              "    <tr style=\"text-align: right;\">\n",
              "      <th></th>\n",
              "      <th>no_of_trainings</th>\n",
              "      <th>age</th>\n",
              "      <th>previous_year_rating</th>\n",
              "      <th>length_of_service</th>\n",
              "      <th>awards_won?</th>\n",
              "      <th>avg_training_score</th>\n",
              "      <th>is_promoted</th>\n",
              "    </tr>\n",
              "  </thead>\n",
              "  <tbody>\n",
              "    <tr>\n",
              "      <th>count</th>\n",
              "      <td>71015.000000</td>\n",
              "      <td>77920.000000</td>\n",
              "      <td>71998.000000</td>\n",
              "      <td>77920.000000</td>\n",
              "      <td>77920.000000</td>\n",
              "      <td>70465.000000</td>\n",
              "      <td>54546.000000</td>\n",
              "    </tr>\n",
              "    <tr>\n",
              "      <th>mean</th>\n",
              "      <td>1.257157</td>\n",
              "      <td>202.703144</td>\n",
              "      <td>3.332829</td>\n",
              "      <td>5.846111</td>\n",
              "      <td>0.022677</td>\n",
              "      <td>63.420492</td>\n",
              "      <td>0.085249</td>\n",
              "    </tr>\n",
              "    <tr>\n",
              "      <th>std</th>\n",
              "      <td>0.611124</td>\n",
              "      <td>4549.105516</td>\n",
              "      <td>1.261526</td>\n",
              "      <td>4.246099</td>\n",
              "      <td>0.148873</td>\n",
              "      <td>13.462672</td>\n",
              "      <td>0.279255</td>\n",
              "    </tr>\n",
              "    <tr>\n",
              "      <th>min</th>\n",
              "      <td>1.000000</td>\n",
              "      <td>-32.000000</td>\n",
              "      <td>1.000000</td>\n",
              "      <td>1.000000</td>\n",
              "      <td>0.000000</td>\n",
              "      <td>39.000000</td>\n",
              "      <td>0.000000</td>\n",
              "    </tr>\n",
              "    <tr>\n",
              "      <th>25%</th>\n",
              "      <td>1.000000</td>\n",
              "      <td>29.000000</td>\n",
              "      <td>3.000000</td>\n",
              "      <td>3.000000</td>\n",
              "      <td>0.000000</td>\n",
              "      <td>51.000000</td>\n",
              "      <td>0.000000</td>\n",
              "    </tr>\n",
              "    <tr>\n",
              "      <th>50%</th>\n",
              "      <td>1.000000</td>\n",
              "      <td>33.000000</td>\n",
              "      <td>3.000000</td>\n",
              "      <td>5.000000</td>\n",
              "      <td>0.000000</td>\n",
              "      <td>60.000000</td>\n",
              "      <td>0.000000</td>\n",
              "    </tr>\n",
              "    <tr>\n",
              "      <th>75%</th>\n",
              "      <td>1.000000</td>\n",
              "      <td>39.000000</td>\n",
              "      <td>4.000000</td>\n",
              "      <td>7.000000</td>\n",
              "      <td>0.000000</td>\n",
              "      <td>76.000000</td>\n",
              "      <td>0.000000</td>\n",
              "    </tr>\n",
              "    <tr>\n",
              "      <th>max</th>\n",
              "      <td>10.000000</td>\n",
              "      <td>123456.000000</td>\n",
              "      <td>5.000000</td>\n",
              "      <td>37.000000</td>\n",
              "      <td>1.000000</td>\n",
              "      <td>99.000000</td>\n",
              "      <td>1.000000</td>\n",
              "    </tr>\n",
              "  </tbody>\n",
              "</table>\n",
              "</div>\n",
              "      <button class=\"colab-df-convert\" onclick=\"convertToInteractive('df-d2250752-257f-424c-8667-14b20f32b039')\"\n",
              "              title=\"Convert this dataframe to an interactive table.\"\n",
              "              style=\"display:none;\">\n",
              "        \n",
              "  <svg xmlns=\"http://www.w3.org/2000/svg\" height=\"24px\"viewBox=\"0 0 24 24\"\n",
              "       width=\"24px\">\n",
              "    <path d=\"M0 0h24v24H0V0z\" fill=\"none\"/>\n",
              "    <path d=\"M18.56 5.44l.94 2.06.94-2.06 2.06-.94-2.06-.94-.94-2.06-.94 2.06-2.06.94zm-11 1L8.5 8.5l.94-2.06 2.06-.94-2.06-.94L8.5 2.5l-.94 2.06-2.06.94zm10 10l.94 2.06.94-2.06 2.06-.94-2.06-.94-.94-2.06-.94 2.06-2.06.94z\"/><path d=\"M17.41 7.96l-1.37-1.37c-.4-.4-.92-.59-1.43-.59-.52 0-1.04.2-1.43.59L10.3 9.45l-7.72 7.72c-.78.78-.78 2.05 0 2.83L4 21.41c.39.39.9.59 1.41.59.51 0 1.02-.2 1.41-.59l7.78-7.78 2.81-2.81c.8-.78.8-2.07 0-2.86zM5.41 20L4 18.59l7.72-7.72 1.47 1.35L5.41 20z\"/>\n",
              "  </svg>\n",
              "      </button>\n",
              "      \n",
              "  <style>\n",
              "    .colab-df-container {\n",
              "      display:flex;\n",
              "      flex-wrap:wrap;\n",
              "      gap: 12px;\n",
              "    }\n",
              "\n",
              "    .colab-df-convert {\n",
              "      background-color: #E8F0FE;\n",
              "      border: none;\n",
              "      border-radius: 50%;\n",
              "      cursor: pointer;\n",
              "      display: none;\n",
              "      fill: #1967D2;\n",
              "      height: 32px;\n",
              "      padding: 0 0 0 0;\n",
              "      width: 32px;\n",
              "    }\n",
              "\n",
              "    .colab-df-convert:hover {\n",
              "      background-color: #E2EBFA;\n",
              "      box-shadow: 0px 1px 2px rgba(60, 64, 67, 0.3), 0px 1px 3px 1px rgba(60, 64, 67, 0.15);\n",
              "      fill: #174EA6;\n",
              "    }\n",
              "\n",
              "    [theme=dark] .colab-df-convert {\n",
              "      background-color: #3B4455;\n",
              "      fill: #D2E3FC;\n",
              "    }\n",
              "\n",
              "    [theme=dark] .colab-df-convert:hover {\n",
              "      background-color: #434B5C;\n",
              "      box-shadow: 0px 1px 3px 1px rgba(0, 0, 0, 0.15);\n",
              "      filter: drop-shadow(0px 1px 2px rgba(0, 0, 0, 0.3));\n",
              "      fill: #FFFFFF;\n",
              "    }\n",
              "  </style>\n",
              "\n",
              "      <script>\n",
              "        const buttonEl =\n",
              "          document.querySelector('#df-d2250752-257f-424c-8667-14b20f32b039 button.colab-df-convert');\n",
              "        buttonEl.style.display =\n",
              "          google.colab.kernel.accessAllowed ? 'block' : 'none';\n",
              "\n",
              "        async function convertToInteractive(key) {\n",
              "          const element = document.querySelector('#df-d2250752-257f-424c-8667-14b20f32b039');\n",
              "          const dataTable =\n",
              "            await google.colab.kernel.invokeFunction('convertToInteractive',\n",
              "                                                     [key], {});\n",
              "          if (!dataTable) return;\n",
              "\n",
              "          const docLinkHtml = 'Like what you see? Visit the ' +\n",
              "            '<a target=\"_blank\" href=https://colab.research.google.com/notebooks/data_table.ipynb>data table notebook</a>'\n",
              "            + ' to learn more about interactive tables.';\n",
              "          element.innerHTML = '';\n",
              "          dataTable['output_type'] = 'display_data';\n",
              "          await google.colab.output.renderOutput(dataTable, element);\n",
              "          const docLink = document.createElement('div');\n",
              "          docLink.innerHTML = docLinkHtml;\n",
              "          element.appendChild(docLink);\n",
              "        }\n",
              "      </script>\n",
              "    </div>\n",
              "  </div>\n",
              "  "
            ]
          },
          "metadata": {},
          "execution_count": 20
        }
      ]
    },
    {
      "cell_type": "code",
      "source": [
        "df_test.set_index(\"employee_id\", inplace=True)\n",
        "\n",
        "df_train.set_index(\"employee_id\", inplace=True)"
      ],
      "metadata": {
        "id": "yduSkLlzAOw3"
      },
      "execution_count": 11,
      "outputs": []
    },
    {
      "cell_type": "code",
      "source": [
        "df = df[df['age'] > 0]\n",
        "df = df[df['age'] <= 70]\n",
        "\n",
        "df_test = df_test[df_test['age'] > 0]\n",
        "df_test = df_test[df_test['age'] <= 70]\n",
        "\n",
        "df_train = df_train[df_train['age'] > 0]\n",
        "df_train = df_train[df_train['age'] <= 70]"
      ],
      "metadata": {
        "id": "oRf9nYNH6TwF"
      },
      "execution_count": 12,
      "outputs": []
    },
    {
      "cell_type": "markdown",
      "source": [
        "Limitando o valor de idade para retirar do dataset os dados incoerrentes com a realidade."
      ],
      "metadata": {
        "id": "26VxYJwwaVGG"
      }
    },
    {
      "cell_type": "markdown",
      "source": [
        "Em seguida, substituiremos os valores faltantes nas features \"no_of_trainings\", \"previous_year_rating\" e \"avg_training_score\" pelas suas médias"
      ],
      "metadata": {
        "id": "cgHhp3S6aoUT"
      }
    },
    {
      "cell_type": "code",
      "source": [
        "df[\"no_of_trainings\"].fillna(df[\"no_of_trainings\"].mean(), inplace = True)\n",
        "\n",
        "df_test[\"no_of_trainings\"].fillna(df_test[\"no_of_trainings\"].mean(), inplace = True)\n",
        "\n",
        "df_train[\"no_of_trainings\"].fillna(df_train[\"no_of_trainings\"].mean(), inplace = True)"
      ],
      "metadata": {
        "id": "VuY2Nuv--IGJ"
      },
      "execution_count": 13,
      "outputs": []
    },
    {
      "cell_type": "code",
      "source": [
        "df[\"previous_year_rating\"].fillna(df[\"previous_year_rating\"].mean(), inplace = True)\n",
        "\n",
        "df_test[\"previous_year_rating\"].fillna(df_test[\"previous_year_rating\"].mean(), inplace = True)\n",
        "\n",
        "df_train[\"previous_year_rating\"].fillna(df_train[\"previous_year_rating\"].mean(), inplace = True)"
      ],
      "metadata": {
        "id": "a9PDN_0O-Yav"
      },
      "execution_count": 14,
      "outputs": []
    },
    {
      "cell_type": "code",
      "source": [
        "df[\"avg_training_score\"].fillna(df[\"avg_training_score\"].mean(), inplace = True)\n",
        "\n",
        "df_test[\"avg_training_score\"].fillna(df_test[\"avg_training_score\"].mean(), inplace = True)\n",
        "\n",
        "df_train[\"avg_training_score\"].fillna(df_train[\"avg_training_score\"].mean(), inplace = True)"
      ],
      "metadata": {
        "id": "EGoCAc9y8lnV"
      },
      "execution_count": 15,
      "outputs": []
    },
    {
      "cell_type": "markdown",
      "source": [
        "Agora faremos uma análise das features numéricas"
      ],
      "metadata": {
        "id": "AIgQB9fibBKJ"
      }
    },
    {
      "cell_type": "code",
      "source": [
        "sns.set_theme(style=\"darkgrid\")"
      ],
      "metadata": {
        "id": "H_EgQXvetBR8"
      },
      "execution_count": null,
      "outputs": []
    },
    {
      "cell_type": "code",
      "source": [
        "df['age'].hist();\n",
        "plt.xlabel(\"age\")"
      ],
      "metadata": {
        "colab": {
          "base_uri": "https://localhost:8080/",
          "height": 302
        },
        "id": "LdP7gWHCC8Xo",
        "outputId": "90fb76ec-c438-4ef2-aa8f-5ac5298bdb07"
      },
      "execution_count": null,
      "outputs": [
        {
          "output_type": "execute_result",
          "data": {
            "text/plain": [
              "Text(0.5, 0, 'age')"
            ]
          },
          "metadata": {},
          "execution_count": 23
        },
        {
          "output_type": "display_data",
          "data": {
            "text/plain": [
              "<Figure size 432x288 with 1 Axes>"
            ],
            "image/png": "[encoded data removed]"
          },
          "metadata": {}
        }
      ]
    },
    {
      "cell_type": "markdown",
      "source": [
        "Observa-se que a distruição de idade atinge seu pico entre os valores de 30 a 35 anos."
      ],
      "metadata": {
        "id": "NNx2m3J6bJWe"
      }
    },
    {
      "cell_type": "code",
      "source": [
        "df['no_of_trainings'].hist();\n",
        "plt.xlabel(\"no_of_trainings\")"
      ],
      "metadata": {
        "colab": {
          "base_uri": "https://localhost:8080/",
          "height": 268
        },
        "id": "b3mktdKz_M9n",
        "outputId": "3e45916f-3928-4ebf-aa9d-c767a34d1c7d"
      },
      "execution_count": null,
      "outputs": [
        {
          "output_type": "display_data",
          "data": {
            "text/plain": [
              "<Figure size 432x288 with 1 Axes>"
            ],
            "image/png": "[encoded data removed]"
          },
          "metadata": {}
        }
      ]
    },
    {
      "cell_type": "markdown",
      "source": [
        "Nesse gráfico vemos qua a feature \"no_of_trainings\" tem um enorme número de contagens para o valor igual a 1."
      ],
      "metadata": {
        "id": "UoxT_atPbbXO"
      }
    },
    {
      "cell_type": "code",
      "source": [
        "df['previous_year_rating'].hist();\n",
        "plt.xlabel(\"previous_year_rating\")"
      ],
      "metadata": {
        "colab": {
          "base_uri": "https://localhost:8080/",
          "height": 268
        },
        "id": "-xToytufCFrQ",
        "outputId": "2f79385c-b6a9-4f6a-a144-82ec27507735"
      },
      "execution_count": null,
      "outputs": [
        {
          "output_type": "display_data",
          "data": {
            "text/plain": [
              "<Figure size 432x288 with 1 Axes>"
            ],
            "image/png": "[encoded data removed]"
          },
          "metadata": {}
        }
      ]
    },
    {
      "cell_type": "markdown",
      "source": [
        "Vemos que as avaliações do ano anterior se concentram em torno de valores acima de 3."
      ],
      "metadata": {
        "id": "Zavd5uyVcSnp"
      }
    },
    {
      "cell_type": "code",
      "source": [
        "df['length_of_service'].hist();\n",
        "plt.xlabel(\"length_of_service\")"
      ],
      "metadata": {
        "colab": {
          "base_uri": "https://localhost:8080/",
          "height": 268
        },
        "id": "IgmO8Req8R5-",
        "outputId": "381e4fce-5183-41da-f98c-d59b02d5b9c3"
      },
      "execution_count": null,
      "outputs": [
        {
          "output_type": "display_data",
          "data": {
            "text/plain": [
              "<Figure size 432x288 with 1 Axes>"
            ],
            "image/png": "[encoded data removed]"
          },
          "metadata": {}
        }
      ]
    },
    {
      "cell_type": "markdown",
      "source": [
        "O gráfica nos mostra um cenário que seria o esperado, no qual há um grande número de funcionários contratados pela empresa há poucos anos e uma pequena quantia com vários anos de serviço na empresa."
      ],
      "metadata": {
        "id": "tNFmVyzqcytz"
      }
    },
    {
      "cell_type": "code",
      "source": [
        "df['avg_training_score'].hist();\n",
        "plt.xlabel(\"avg_training_score\")"
      ],
      "metadata": {
        "colab": {
          "base_uri": "https://localhost:8080/",
          "height": 268
        },
        "id": "gUhLFkfmCBFQ",
        "outputId": "e4fbfd67-540f-4985-9415-84ac636681b6"
      },
      "execution_count": null,
      "outputs": [
        {
          "output_type": "display_data",
          "data": {
            "text/plain": [
              "<Figure size 432x288 with 1 Axes>"
            ],
            "image/png": "[encoded data removed]"
          },
          "metadata": {}
        }
      ]
    },
    {
      "cell_type": "markdown",
      "source": [
        "Vemos que os valores de desempenho em treinamentos dos funcionários tem uma boa distribuição na faixa entre 45 e 70 e uma pequena queda no intervalo de 70 a 90."
      ],
      "metadata": {
        "id": "omUlc_AKdkVk"
      }
    },
    {
      "cell_type": "markdown",
      "source": [
        "### Relação entre features "
      ],
      "metadata": {
        "id": "h4jQ9ZsbeOWg"
      }
    },
    {
      "cell_type": "code",
      "source": [
        "sns.heatmap(df.corr(), annot=True, vmin=-1, vmax=1);"
      ],
      "metadata": {
        "colab": {
          "base_uri": "https://localhost:8080/",
          "height": 378
        },
        "id": "e2TKahndEJu4",
        "outputId": "e83fc2e0-48fe-4ef4-9e9c-287b3a2ebd34"
      },
      "execution_count": null,
      "outputs": [
        {
          "output_type": "display_data",
          "data": {
            "text/plain": [
              "<Figure size 432x288 with 2 Axes>"
            ],
            "image/png": "[encoded data removed]"
          },
          "metadata": {}
        }
      ]
    },
    {
      "cell_type": "markdown",
      "source": [
        "O gráfico acima nos mostra que, em geral, as features não estabelecem uma correlação muito forte entre si.\n",
        "Uma excessão é a relação entre 'age' e 'length_of_service' que será representada no gráfico a seguir.\n",
        "Analisando diretamente nossa feture target, 'is_promoted', vemos que a feature que estabelece maior correlação é 'awards_won?' seguida de 'avg_training_score' e 'previous_year_rating', o que retrata que as promoções são baseados, em alguma proporção, em mérito."
      ],
      "metadata": {
        "id": "PYZ1VJRgeWGM"
      }
    },
    {
      "cell_type": "code",
      "source": [
        "sns.lineplot(x ='age', y='length_of_service', data=df, color='red',);"
      ],
      "metadata": {
        "colab": {
          "base_uri": "https://localhost:8080/",
          "height": 285
        },
        "id": "u0k8G6W2jIP7",
        "outputId": "e81bf2b9-f8a2-4910-d590-e348d64b30a5"
      },
      "execution_count": null,
      "outputs": [
        {
          "output_type": "display_data",
          "data": {
            "text/plain": [
              "<Figure size 432x288 with 1 Axes>"
            ],
            "image/png": "[encoded data removed]"
          },
          "metadata": {}
        }
      ]
    },
    {
      "cell_type": "markdown",
      "source": [
        "Esse cenário retratado é, de certa forma, esperado, pois é incoerente que um jovem ingressante no mercado de trabalho tenha passado vários anos em alguma instituição. Porém, além disso, ele nos mostra uma tendência de permanência dos funcionários na empresa, já que os funcionários mais velhos apresentam uma duração de prestação de serviços maior."
      ],
      "metadata": {
        "id": "ZJI3WXhDgRhU"
      }
    },
    {
      "cell_type": "code",
      "source": [
        "sns.boxplot(x=\"age\", y=\"gender\", data=df, width=.6, palette=\"vlag\");"
      ],
      "metadata": {
        "colab": {
          "base_uri": "https://localhost:8080/",
          "height": 285
        },
        "id": "J4vW1sZn2BGB",
        "outputId": "e2462e19-778c-4e76-9633-4ee993345a2e"
      },
      "execution_count": null,
      "outputs": [
        {
          "output_type": "display_data",
          "data": {
            "text/plain": [
              "<Figure size 432x288 with 1 Axes>"
            ],
            "image/png": "[encoded data removed]"
          },
          "metadata": {}
        }
      ]
    },
    {
      "cell_type": "markdown",
      "source": [
        "Neste gráfico vemos claramente a situação já apresentada pelo histograma da feature 'age' que relatava a faixa de concentração dos valores, porém vemos claramente os outliers a partir dos 55 anos."
      ],
      "metadata": {
        "id": "0KGX-SW0hjaB"
      }
    },
    {
      "cell_type": "code",
      "source": [
        "sns.lineplot(x ='age', y='avg_training_score', data=df, color='red', hue = 'gender');"
      ],
      "metadata": {
        "colab": {
          "base_uri": "https://localhost:8080/",
          "height": 289
        },
        "id": "p7cLtOUjfOlD",
        "outputId": "daffa3b5-621e-4a23-e0a1-e60852bc999c"
      },
      "execution_count": null,
      "outputs": [
        {
          "output_type": "display_data",
          "data": {
            "text/plain": [
              "<Figure size 432x288 with 1 Axes>"
            ],
            "image/png": "[encoded data removed]"
          },
          "metadata": {}
        }
      ]
    },
    {
      "cell_type": "markdown",
      "source": [
        "Observa-se que as mulheres apresentam um desempenho melhor nos treinamentos."
      ],
      "metadata": {
        "id": "NjT-q61nhN-Q"
      }
    },
    {
      "cell_type": "code",
      "source": [
        "sns.lineplot(x ='age', y='previous_year_rating', data=df, color='red', hue = 'gender');"
      ],
      "metadata": {
        "colab": {
          "base_uri": "https://localhost:8080/",
          "height": 285
        },
        "id": "fARsPa8MikpU",
        "outputId": "e990b638-2c09-47cc-effc-5d3e675a302c"
      },
      "execution_count": null,
      "outputs": [
        {
          "output_type": "display_data",
          "data": {
            "text/plain": [
              "<Figure size 432x288 with 1 Axes>"
            ],
            "image/png": "[encoded data removed]"
          },
          "metadata": {}
        }
      ]
    },
    {
      "cell_type": "markdown",
      "source": [
        "Novamente vemos um melhor desempenho das mulheres na empresa, o que pode ser retratado pelas avaliações maiores em média para o gênero 'FEMALE'.\n",
        "\n",
        "Vale ressaltar as grandes areas de sombreamento na porção final do gráfico que ocorrem devido ao baixo número de observções para esses valores de idade( o que já foi explicitado acima), de forma que não se haja uma tendência para essas baixas quantidades de dados."
      ],
      "metadata": {
        "id": "E-bq78wyiBQ8"
      }
    },
    {
      "cell_type": "code",
      "source": [
        "sns.lineplot(x ='age', y='avg_training_score', data=df, color='red', hue = 'education');"
      ],
      "metadata": {
        "colab": {
          "base_uri": "https://localhost:8080/",
          "height": 285
        },
        "id": "CrEWiL7_ybvt",
        "outputId": "14d09132-ae50-4f48-ecf2-a330e2489dbc"
      },
      "execution_count": null,
      "outputs": [
        {
          "output_type": "display_data",
          "data": {
            "text/plain": [
              "<Figure size 432x288 with 1 Axes>"
            ],
            "image/png": "[encoded data removed]"
          },
          "metadata": {}
        }
      ]
    },
    {
      "cell_type": "markdown",
      "source": [
        "Nota-se que os funcionários com maior nivel acadêmico apresentam um melhor desempenho em treinamentos na empresa."
      ],
      "metadata": {
        "id": "jHzh7V6CjH0r"
      }
    },
    {
      "cell_type": "code",
      "source": [
        "sns.lineplot(x ='age', y='is_promoted', data=df, color='red', hue = 'education');"
      ],
      "metadata": {
        "colab": {
          "base_uri": "https://localhost:8080/",
          "height": 285
        },
        "id": "7tW5I3y50abb",
        "outputId": "40a52925-714a-419b-c4bb-380438babfa8"
      },
      "execution_count": null,
      "outputs": [
        {
          "output_type": "display_data",
          "data": {
            "text/plain": [
              "<Figure size 432x288 with 1 Axes>"
            ],
            "image/png": "[encoded data removed]"
          },
          "metadata": {}
        }
      ]
    },
    {
      "cell_type": "markdown",
      "source": [
        "A partir de idades em que se torna possível alcançar determinados níveis altos acadêmicos, vemos que funcionários com tais classificações educacionais mais altos se aproximam mais da promoção do que os demais."
      ],
      "metadata": {
        "id": "KZfQ7Vy8jnSR"
      }
    },
    {
      "cell_type": "code",
      "source": [
        "sns.countplot(y=\"department\", hue=\"gender\", data= df, palette=('orange','lightblue'))"
      ],
      "metadata": {
        "colab": {
          "base_uri": "https://localhost:8080/",
          "height": 302
        },
        "id": "uiXfyLaa1XuW",
        "outputId": "a0616837-9cae-4d15-e115-ec9bb272665f"
      },
      "execution_count": null,
      "outputs": [
        {
          "output_type": "execute_result",
          "data": {
            "text/plain": [
              "<matplotlib.axes._subplots.AxesSubplot at 0x7fecac599d10>"
            ]
          },
          "metadata": {},
          "execution_count": 66
        },
        {
          "output_type": "display_data",
          "data": {
            "text/plain": [
              "<Figure size 432x288 with 1 Axes>"
            ],
            "image/png": "[encoded data removed]"
          },
          "metadata": {}
        }
      ]
    },
    {
      "cell_type": "markdown",
      "source": [
        "No gráfico acima vemos as distribuições dos gêneros nos departamentos da empresa. Uma comparação direta entre os gêneros não seria correta já que a quantidade é desproporcional entre eles, porém considerando a grande diferença conseguimos tirar muitas informações deste gráfico, tais como a grande presença de mulheres nos setores de operações, compras e tecnologia, além da grande proporção de homens em 'Analytics'."
      ],
      "metadata": {
        "id": "L_zEuEXXkMFf"
      }
    },
    {
      "cell_type": "code",
      "source": [
        "sns.catplot(y=\"department\",x='length_of_service',kind='bar', palette=\"RdPu\", edgecolor=\".6\", data=df);"
      ],
      "metadata": {
        "colab": {
          "base_uri": "https://localhost:8080/",
          "height": 365
        },
        "id": "FeQS7mql3fIQ",
        "outputId": "93bf6935-6ad6-410b-f28c-a939fb7ec82d"
      },
      "execution_count": null,
      "outputs": [
        {
          "output_type": "display_data",
          "data": {
            "text/plain": [
              "<Figure size 360x360 with 1 Axes>"
            ],
            "image/png": "[encoded data removed]"
          },
          "metadata": {}
        }
      ]
    },
    {
      "cell_type": "markdown",
      "source": [
        "Podemos extrair do gráfico a extensão média de serviço para os funcionários de cada departamento, analisando, assim, quais setores há maior fluxo de funcionários(contratações e demissões) em uma análise simplificada, que neste caso são 'Legal' e 'R&D'."
      ],
      "metadata": {
        "id": "Rn-7uwN8l5zQ"
      }
    },
    {
      "cell_type": "markdown",
      "source": [
        "## Modelos"
      ],
      "metadata": {
        "id": "KLH0kZCKGyt5"
      }
    },
    {
      "cell_type": "code",
      "source": [
        "df_train.isnull().sum()"
      ],
      "metadata": {
        "colab": {
          "base_uri": "https://localhost:8080/"
        },
        "id": "NQwpu7HTYQXu",
        "outputId": "3f6f8a64-1584-426d-8bfb-c3f2544541f7"
      },
      "execution_count": null,
      "outputs": [
        {
          "output_type": "execute_result",
          "data": {
            "text/plain": [
              "department              0\n",
              "region                  0\n",
              "education               0\n",
              "gender                  0\n",
              "recruitment_channel     0\n",
              "no_of_trainings         0\n",
              "age                     0\n",
              "previous_year_rating    0\n",
              "length_of_service       0\n",
              "awards_won?             0\n",
              "avg_training_score      0\n",
              "is_promoted             0\n",
              "dtype: int64"
            ]
          },
          "metadata": {},
          "execution_count": 16
        }
      ]
    },
    {
      "cell_type": "code",
      "source": [
        "df_test.isnull().sum()"
      ],
      "metadata": {
        "colab": {
          "base_uri": "https://localhost:8080/"
        },
        "id": "hzWT-2vCYXZY",
        "outputId": "0571e62e-955d-4ef9-da5c-6a0fca5aa13a"
      },
      "execution_count": null,
      "outputs": [
        {
          "output_type": "execute_result",
          "data": {
            "text/plain": [
              "department              0\n",
              "region                  0\n",
              "education               0\n",
              "gender                  0\n",
              "recruitment_channel     0\n",
              "no_of_trainings         0\n",
              "age                     0\n",
              "previous_year_rating    0\n",
              "length_of_service       0\n",
              "awards_won?             0\n",
              "avg_training_score      0\n",
              "dtype: int64"
            ]
          },
          "metadata": {},
          "execution_count": 17
        }
      ]
    },
    {
      "cell_type": "code",
      "source": [
        "df_train.info()"
      ],
      "metadata": {
        "colab": {
          "base_uri": "https://localhost:8080/"
        },
        "id": "EEvwLTRvYiR1",
        "outputId": "329c48c2-1253-4f3e-cd78-484cde3590bd"
      },
      "execution_count": null,
      "outputs": [
        {
          "output_type": "stream",
          "name": "stdout",
          "text": [
            "<class 'pandas.core.frame.DataFrame'>\n",
            "Int64Index: 54446 entries, 65438 to 51526\n",
            "Data columns (total 12 columns):\n",
            " #   Column                Non-Null Count  Dtype  \n",
            "---  ------                --------------  -----  \n",
            " 0   department            54446 non-null  object \n",
            " 1   region                54446 non-null  object \n",
            " 2   education             54446 non-null  object \n",
            " 3   gender                54446 non-null  object \n",
            " 4   recruitment_channel   54446 non-null  object \n",
            " 5   no_of_trainings       54446 non-null  float64\n",
            " 6   age                   54446 non-null  int64  \n",
            " 7   previous_year_rating  54446 non-null  float64\n",
            " 8   length_of_service     54446 non-null  int64  \n",
            " 9   awards_won?           54446 non-null  int64  \n",
            " 10  avg_training_score    54446 non-null  float64\n",
            " 11  is_promoted           54446 non-null  int64  \n",
            "dtypes: float64(3), int64(4), object(5)\n",
            "memory usage: 5.4+ MB\n"
          ]
        }
      ]
    },
    {
      "cell_type": "markdown",
      "source": [
        "Agora vamos iniciar a construção de diversos modelos para a predição da nossa feature target ('is_promoted') no dataset de teste."
      ],
      "metadata": {
        "id": "X5KkHbNImwMm"
      }
    },
    {
      "cell_type": "markdown",
      "source": [
        "Nossa feature target é categórica, podendo assumir apenas 1 ou 0."
      ],
      "metadata": {
        "id": "71BWOnT4KAvc"
      }
    },
    {
      "cell_type": "markdown",
      "source": [
        "Agora, vamos transformar nossas variáveis categóricas em números por meio de um Encoding."
      ],
      "metadata": {
        "id": "-DFyUDrIxYr-"
      }
    },
    {
      "cell_type": "code",
      "source": [
        "one_hot_encoding_test = pd.get_dummies(df_test)\n",
        "one_hot_encoding_train = pd.get_dummies(df_train)"
      ],
      "metadata": {
        "id": "aDb15PhRw1L8"
      },
      "execution_count": 16,
      "outputs": []
    },
    {
      "cell_type": "code",
      "source": [
        "X_test = pd.get_dummies(df_test)\n",
        "\n",
        "X_train = pd.get_dummies(df_train)\n",
        "\n",
        "X_test = X_test.reindex(columns = X_train.columns, fill_value=0)"
      ],
      "metadata": {
        "id": "zDIccR0zM_MN"
      },
      "execution_count": 17,
      "outputs": []
    },
    {
      "cell_type": "code",
      "source": [
        "y_train = one_hot_encoding_train.iloc[:,-1]"
      ],
      "metadata": {
        "id": "0CwmFa9uzh0l"
      },
      "execution_count": 18,
      "outputs": []
    },
    {
      "cell_type": "markdown",
      "source": [
        "Separamos nossa feature target nos dataset de treino e de teste."
      ],
      "metadata": {
        "id": "VLaYu_xunVqA"
      }
    },
    {
      "cell_type": "markdown",
      "source": [
        "### Regressão logística"
      ],
      "metadata": {
        "id": "CiZS_OQRJfcF"
      }
    },
    {
      "cell_type": "code",
      "source": [
        " from sklearn.linear_model import LogisticRegression"
      ],
      "metadata": {
        "id": "YCFHOx2eF4p_"
      },
      "execution_count": 19,
      "outputs": []
    },
    {
      "cell_type": "code",
      "source": [
        "logreg = LogisticRegression()\n",
        "logreg.fit(X_train, y_train)"
      ],
      "metadata": {
        "colab": {
          "base_uri": "https://localhost:8080/"
        },
        "id": "w6mI-k_mJnS4",
        "outputId": "96564ae1-f8a7-4320-983c-5820ab829d38"
      },
      "execution_count": null,
      "outputs": [
        {
          "output_type": "stream",
          "name": "stderr",
          "text": [
            "/usr/local/lib/python3.7/dist-packages/sklearn/linear_model/_logistic.py:818: ConvergenceWarning: lbfgs failed to converge (status=1):\n",
            "STOP: TOTAL NO. of ITERATIONS REACHED LIMIT.\n",
            "\n",
            "Increase the number of iterations (max_iter) or scale the data as shown in:\n",
            "    https://scikit-learn.org/stable/modules/preprocessing.html\n",
            "Please also refer to the documentation for alternative solver options:\n",
            "    https://scikit-learn.org/stable/modules/linear_model.html#logistic-regression\n",
            "  extra_warning_msg=_LOGISTIC_SOLVER_CONVERGENCE_MSG,\n"
          ]
        },
        {
          "output_type": "execute_result",
          "data": {
            "text/plain": [
              "LogisticRegression()"
            ]
          },
          "metadata": {},
          "execution_count": 20
        }
      ]
    },
    {
      "cell_type": "code",
      "source": [
        "y_test_predict = logreg.predict(X_test)"
      ],
      "metadata": {
        "id": "NSNasx_iKvfp"
      },
      "execution_count": null,
      "outputs": []
    },
    {
      "cell_type": "markdown",
      "source": [
        "### Árvore de decisão"
      ],
      "metadata": {
        "id": "4afSs2bFhHUP"
      }
    },
    {
      "cell_type": "code",
      "source": [
        "from sklearn.tree import DecisionTreeClassifier\n",
        "\n",
        "clf_model = DecisionTreeClassifier(\n",
        "    criterion=\"gini\",\n",
        "    random_state=42,\n",
        "    max_depth=3,\n",
        "    min_samples_leaf=5\n",
        ")\n",
        "\n",
        "clf_model.fit(X_train,y_train)"
      ],
      "metadata": {
        "id": "8OypZzr2hN4L",
        "colab": {
          "base_uri": "https://localhost:8080/"
        },
        "outputId": "f207c64c-513f-46a8-9941-9d1ca6aeeed1"
      },
      "execution_count": null,
      "outputs": [
        {
          "output_type": "execute_result",
          "data": {
            "text/plain": [
              "DecisionTreeClassifier(max_depth=3, min_samples_leaf=5, random_state=42)"
            ]
          },
          "metadata": {},
          "execution_count": 22
        }
      ]
    },
    {
      "cell_type": "code",
      "source": [
        "y_predict = clf_model.predict(X_test)"
      ],
      "metadata": {
        "id": "8H0hr_W_haji"
      },
      "execution_count": null,
      "outputs": []
    },
    {
      "cell_type": "markdown",
      "source": [
        "### Random Forest"
      ],
      "metadata": {
        "id": "fPpFUV3-jUC-"
      }
    },
    {
      "cell_type": "code",
      "source": [
        "from sklearn import preprocessing\n",
        "from sklearn.metrics import confusion_matrix\n",
        "from sklearn.ensemble import RandomForestClassifier"
      ],
      "metadata": {
        "id": "yL1ewL_QjW0l"
      },
      "execution_count": null,
      "outputs": []
    },
    {
      "cell_type": "code",
      "source": [
        "rf = RandomForestClassifier(\n",
        "    max_depth=25,\n",
        "    n_estimators=200,\n",
        "    min_samples_split=50,\n",
        "    criterion='entropy',\n",
        "    oob_score=True,\n",
        "    random_state=42\n",
        ")\n",
        "\n",
        "rf.fit(X_train, y_train)"
      ],
      "metadata": {
        "id": "j6a4e_NBlPFT",
        "colab": {
          "base_uri": "https://localhost:8080/"
        },
        "outputId": "70168f9b-a02b-448e-f4db-7e956d0ed1f4"
      },
      "execution_count": null,
      "outputs": [
        {
          "output_type": "execute_result",
          "data": {
            "text/plain": [
              "RandomForestClassifier(criterion='entropy', max_depth=25, min_samples_split=50,\n",
              "                       n_estimators=200, oob_score=True, random_state=42)"
            ]
          },
          "metadata": {},
          "execution_count": 25
        }
      ]
    },
    {
      "cell_type": "code",
      "source": [
        "predicted = rf.predict(X_test)"
      ],
      "metadata": {
        "id": "mzJqcp7plWgx"
      },
      "execution_count": null,
      "outputs": []
    },
    {
      "cell_type": "markdown",
      "source": [
        "### KNN"
      ],
      "metadata": {
        "id": "X66BgeW-MMkg"
      }
    },
    {
      "cell_type": "code",
      "source": [
        "from sklearn.neighbors import KNeighborsClassifier"
      ],
      "metadata": {
        "id": "wbLSkOUGM1Na"
      },
      "execution_count": 20,
      "outputs": []
    },
    {
      "cell_type": "code",
      "source": [
        "K = 15\n",
        "model = KNeighborsClassifier(n_neighbors = K)\n",
        "model.fit(X_train, y_train)"
      ],
      "metadata": {
        "id": "QTzzSUJdMOis",
        "colab": {
          "base_uri": "https://localhost:8080/"
        },
        "outputId": "cd7996be-1d64-4c77-e7ee-e903c5edf089"
      },
      "execution_count": 21,
      "outputs": [
        {
          "output_type": "execute_result",
          "data": {
            "text/plain": [
              "KNeighborsClassifier(n_neighbors=15)"
            ]
          },
          "metadata": {},
          "execution_count": 21
        }
      ]
    },
    {
      "cell_type": "code",
      "source": [
        "y_predict = model.predict(X_test)"
      ],
      "metadata": {
        "id": "ZdQbCuhCNFvX"
      },
      "execution_count": null,
      "outputs": []
    },
    {
      "cell_type": "markdown",
      "source": [
        "### Naive Bayes"
      ],
      "metadata": {
        "id": "bq8boihGPmLU"
      }
    },
    {
      "cell_type": "code",
      "source": [
        "from sklearn.naive_bayes import GaussianNB"
      ],
      "metadata": {
        "id": "dDSEry4nPqB9"
      },
      "execution_count": null,
      "outputs": []
    },
    {
      "cell_type": "code",
      "source": [
        "model = GaussianNB()\n",
        "model.fit(X_train, y_train)"
      ],
      "metadata": {
        "id": "QwDR5U-pPteG",
        "colab": {
          "base_uri": "https://localhost:8080/"
        },
        "outputId": "25fd4093-f64d-4d0e-b460-4a25374e6de3"
      },
      "execution_count": null,
      "outputs": [
        {
          "output_type": "execute_result",
          "data": {
            "text/plain": [
              "GaussianNB()"
            ]
          },
          "metadata": {},
          "execution_count": 33
        }
      ]
    },
    {
      "cell_type": "code",
      "source": [
        "y_predict = model.predict(X_test)"
      ],
      "metadata": {
        "id": "R19Sg9SEPwHp"
      },
      "execution_count": null,
      "outputs": []
    },
    {
      "cell_type": "markdown",
      "source": [
        "### SVM"
      ],
      "metadata": {
        "id": "ukMrRqaeP602"
      }
    },
    {
      "cell_type": "code",
      "source": [
        "from sklearn import svm"
      ],
      "metadata": {
        "id": "Qhdl88twP8v-"
      },
      "execution_count": null,
      "outputs": []
    },
    {
      "cell_type": "code",
      "source": [
        "model = svm.SVC(C = 1E9)\n",
        "model.fit(X_train, y_train)"
      ],
      "metadata": {
        "id": "qQZU8DRDQAam",
        "colab": {
          "base_uri": "https://localhost:8080/"
        },
        "outputId": "53db5c9b-dc65-426d-80f5-d81cdadec2c0"
      },
      "execution_count": null,
      "outputs": [
        {
          "output_type": "execute_result",
          "data": {
            "text/plain": [
              "SVC(C=1000000000.0)"
            ]
          },
          "metadata": {},
          "execution_count": 36
        }
      ]
    },
    {
      "cell_type": "code",
      "source": [
        "y_predict = model.predict(X_test)"
      ],
      "metadata": {
        "id": "FDC1d7sUQBXr"
      },
      "execution_count": null,
      "outputs": []
    },
    {
      "cell_type": "markdown",
      "source": [
        "##Métricas \n"
      ],
      "metadata": {
        "id": "XtDZAUVREg3G"
      }
    },
    {
      "cell_type": "markdown",
      "source": [
        "Vamos transformar o dataset de treino em treino e teste, pois no dataset de teste dado não temos valores na feature target então não temos como avaliar nosso modelo dessa forma."
      ],
      "metadata": {
        "id": "QYWxKgeqvlww"
      }
    },
    {
      "cell_type": "code",
      "source": [
        "from sklearn.model_selection import train_test_split\n",
        "from sklearn.metrics import accuracy_score\n",
        "from sklearn.neighbors import KNeighborsClassifier\n",
        "from sklearn.model_selection import cross_val_score\n",
        "from sklearn.metrics import confusion_matrix, plot_confusion_matrix, classification_report"
      ],
      "metadata": {
        "id": "wFBMwFC3JZ3v"
      },
      "execution_count": 22,
      "outputs": []
    },
    {
      "cell_type": "code",
      "source": [
        "data = df_train"
      ],
      "metadata": {
        "id": "LfvKEs2rHnhD"
      },
      "execution_count": 23,
      "outputs": []
    },
    {
      "cell_type": "code",
      "source": [
        "y = data['is_promoted']\n",
        "X = data.drop(['is_promoted'], axis=1)"
      ],
      "metadata": {
        "id": "4NUtBcCaH1b2"
      },
      "execution_count": 24,
      "outputs": []
    },
    {
      "cell_type": "code",
      "source": [
        "X_train, X_test, y_train, y_test = train_test_split(X, y, random_state=0, train_size = .75)"
      ],
      "metadata": {
        "id": "AhR3U7gBJUHu"
      },
      "execution_count": 25,
      "outputs": []
    },
    {
      "cell_type": "code",
      "source": [
        "X_test = pd.get_dummies(X_test)\n",
        "X_train = pd.get_dummies(X_train)"
      ],
      "metadata": {
        "id": "9SBFfZIfJvRq"
      },
      "execution_count": 26,
      "outputs": []
    },
    {
      "cell_type": "markdown",
      "source": [
        "Faremos exemplos com KNN, primeiramente obtendo a acurácia com determinado valor de k. Em seguida usaremos a técnica de validação cruzada para diversos valores de k."
      ],
      "metadata": {
        "id": "xXrLvGZ7v_-6"
      }
    },
    {
      "cell_type": "code",
      "source": [
        "K = 15\n",
        "model = KNeighborsClassifier(n_neighbors = K)\n",
        "model.fit(X_train, y_train)"
      ],
      "metadata": {
        "colab": {
          "base_uri": "https://localhost:8080/"
        },
        "id": "rbIA9ZQIKGqF",
        "outputId": "2c4fb9aa-e059-48bd-c11a-a03f8de370c2"
      },
      "execution_count": 27,
      "outputs": [
        {
          "output_type": "execute_result",
          "data": {
            "text/plain": [
              "KNeighborsClassifier(n_neighbors=15)"
            ]
          },
          "metadata": {},
          "execution_count": 27
        }
      ]
    },
    {
      "cell_type": "code",
      "source": [
        "y_predict = model.predict(X_test)"
      ],
      "metadata": {
        "id": "E5-78f2XKihU"
      },
      "execution_count": 28,
      "outputs": []
    },
    {
      "cell_type": "code",
      "source": [
        "accuracy_score(y_test,y_predict)"
      ],
      "metadata": {
        "colab": {
          "base_uri": "https://localhost:8080/"
        },
        "id": "54EwYb3tKpy-",
        "outputId": "3ce7c0f7-3c9d-4dca-cc9e-4123f1239759"
      },
      "execution_count": 29,
      "outputs": [
        {
          "output_type": "execute_result",
          "data": {
            "text/plain": [
              "0.9216867469879518"
            ]
          },
          "metadata": {},
          "execution_count": 29
        }
      ]
    },
    {
      "cell_type": "code",
      "source": [
        "best_score = 0.0\n",
        "best_k = 0\n",
        "k_range = [5, 15, 20, 30]\n",
        "\n",
        "for k in k_range:\n",
        "    knn = KNeighborsClassifier(k)\n",
        "    score = np.mean(cross_val_score(knn, X_train, y_train, cv = 10))\n",
        "    \n",
        "    print(f\"Finished for K = {k} | Score: {score:.4f}\")\n",
        "    if score > best_score:\n",
        "        best_k = k\n",
        "        best_score = score\n",
        "\n",
        "print(\"========================================\")\n",
        "print(f\"Best acc: {best_score:.4f} | K = {best_k}\")"
      ],
      "metadata": {
        "colab": {
          "base_uri": "https://localhost:8080/"
        },
        "id": "KjGY1Z-7K-Mj",
        "outputId": "ae6d2f99-5e9d-4e54-a58c-1558f9919582"
      },
      "execution_count": 30,
      "outputs": [
        {
          "output_type": "stream",
          "name": "stdout",
          "text": [
            "Finished for K = 5 | Score: 0.9196\n",
            "Finished for K = 15 | Score: 0.9220\n",
            "Finished for K = 20 | Score: 0.9215\n",
            "Finished for K = 30 | Score: 0.9212\n",
            "========================================\n",
            "Best acc: 0.9220 | K = 15\n"
          ]
        }
      ]
    },
    {
      "cell_type": "markdown",
      "source": [
        "Nesse próximo exemplo usaremos um modelo de Random Forest para observarmos diferentes métricas."
      ],
      "metadata": {
        "id": "p--gKVwZwm_i"
      }
    },
    {
      "cell_type": "code",
      "source": [
        "rf = RandomForestClassifier(\n",
        "    max_depth=25,\n",
        "    n_estimators=200,\n",
        "    min_samples_split=50,\n",
        "    criterion='entropy',\n",
        "    oob_score=True,\n",
        "    random_state=42\n",
        ")\n",
        "\n",
        "rf.fit(X_train, y_train)"
      ],
      "metadata": {
        "colab": {
          "base_uri": "https://localhost:8080/"
        },
        "id": "QGMLs8UjPuEv",
        "outputId": "083f7e10-f500-4e18-fc22-401fdc19051c"
      },
      "execution_count": null,
      "outputs": [
        {
          "output_type": "execute_result",
          "data": {
            "text/plain": [
              "RandomForestClassifier(criterion='entropy', max_depth=25, min_samples_split=50,\n",
              "                       n_estimators=200, oob_score=True, random_state=42)"
            ]
          },
          "metadata": {},
          "execution_count": 48
        }
      ]
    },
    {
      "cell_type": "code",
      "source": [
        "from sklearn.metrics import plot_confusion_matrix\n",
        "plot_confusion_matrix(rf, X_test, y_test, values_format='d')"
      ],
      "metadata": {
        "colab": {
          "base_uri": "https://localhost:8080/",
          "height": 351
        },
        "id": "Ys2mWEEYTH0N",
        "outputId": "32e6200b-c072-4996-8e17-154db376d799"
      },
      "execution_count": null,
      "outputs": [
        {
          "output_type": "stream",
          "name": "stderr",
          "text": [
            "/usr/local/lib/python3.7/dist-packages/sklearn/utils/deprecation.py:87: FutureWarning: Function plot_confusion_matrix is deprecated; Function `plot_confusion_matrix` is deprecated in 1.0 and will be removed in 1.2. Use one of the class methods: ConfusionMatrixDisplay.from_predictions or ConfusionMatrixDisplay.from_estimator.\n",
            "  warnings.warn(msg, category=FutureWarning)\n"
          ]
        },
        {
          "output_type": "execute_result",
          "data": {
            "text/plain": [
              "<sklearn.metrics._plot.confusion_matrix.ConfusionMatrixDisplay at 0x7fed808a99d0>"
            ]
          },
          "metadata": {},
          "execution_count": 51
        },
        {
          "output_type": "display_data",
          "data": {
            "text/plain": [
              "<Figure size 432x288 with 2 Axes>"
            ],
            "image/png": "[encoded data removed]"
          },
          "metadata": {
            "needs_background": "light"
          }
        }
      ]
    },
    {
      "cell_type": "markdown",
      "source": [
        "Na matriz de confusão acima vemos que há muitos \"false negatives\", representados no quadrante inferior esquerdo. "
      ],
      "metadata": {
        "id": "rUaoXgT_TzVU"
      }
    },
    {
      "cell_type": "code",
      "source": [
        "print(\"Acurácia:\", rf.score(X_test, y_test))"
      ],
      "metadata": {
        "colab": {
          "base_uri": "https://localhost:8080/"
        },
        "id": "o34AECX6Vbxe",
        "outputId": "ba2de21d-9179-4a7a-833a-a0479ffbae03"
      },
      "execution_count": null,
      "outputs": [
        {
          "output_type": "stream",
          "name": "stdout",
          "text": [
            "Acurácia: 0.9271231266529533\n"
          ]
        }
      ]
    },
    {
      "cell_type": "code",
      "source": [
        "y_predict = rf.predict(X_test)"
      ],
      "metadata": {
        "id": "RGcgKo2IXx-y"
      },
      "execution_count": null,
      "outputs": []
    },
    {
      "cell_type": "code",
      "source": [
        "print(classification_report(y_test, y_predict))"
      ],
      "metadata": {
        "colab": {
          "base_uri": "https://localhost:8080/"
        },
        "id": "oCOuIixRYU0N",
        "outputId": "e0409db8-3d03-4397-a41c-7b8235017055"
      },
      "execution_count": null,
      "outputs": [
        {
          "output_type": "stream",
          "name": "stdout",
          "text": [
            "              precision    recall  f1-score   support\n",
            "\n",
            "           0       0.93      1.00      0.96     12462\n",
            "           1       0.92      0.15      0.26      1150\n",
            "\n",
            "    accuracy                           0.93     13612\n",
            "   macro avg       0.92      0.57      0.61     13612\n",
            "weighted avg       0.93      0.93      0.90     13612\n",
            "\n"
          ]
        }
      ]
    },
    {
      "cell_type": "markdown",
      "source": [
        "Vemos que o recall dos casos promovidos é bem baixo, o que significa que dos casos promovidos, o modelo acertou poucos, logo não é considerado um modelo bom para prever a promoção de um funcionário( apesar da alta acurácia).\n",
        "Esse fator também é responsável pelo baixo valor de f1 nos casos promovidos.\n"
      ],
      "metadata": {
        "id": "yvR9uZHAxpTh"
      }
    }
  ]
}